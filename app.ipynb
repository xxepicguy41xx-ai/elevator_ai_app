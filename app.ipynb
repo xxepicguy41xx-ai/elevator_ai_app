{
 "cells": [
  {
   "cell_type": "code",
   "execution_count": 1,
   "id": "eb0bcf32-98b8-4188-a5f6-3164c527a35b",
   "metadata": {},
   "outputs": [
    {
     "ename": "ModuleNotFoundError",
     "evalue": "No module named 'ask_ai'",
     "output_type": "error",
     "traceback": [
      "\u001b[1;31m---------------------------------------------------------------------------\u001b[0m",
      "\u001b[1;31mModuleNotFoundError\u001b[0m                       Traceback (most recent call last)",
      "Cell \u001b[1;32mIn[1], line 2\u001b[0m\n\u001b[0;32m      1\u001b[0m \u001b[38;5;28;01mimport\u001b[39;00m \u001b[38;5;21;01mstreamlit\u001b[39;00m \u001b[38;5;28;01mas\u001b[39;00m \u001b[38;5;21;01mst\u001b[39;00m\n\u001b[1;32m----> 2\u001b[0m \u001b[38;5;28;01mfrom\u001b[39;00m \u001b[38;5;21;01mask_ai\u001b[39;00m \u001b[38;5;28;01mimport\u001b[39;00m ask_groq\n\u001b[0;32m      4\u001b[0m st\u001b[38;5;241m.\u001b[39mset_page_config(page_title\u001b[38;5;241m=\u001b[39m\u001b[38;5;124m\"\u001b[39m\u001b[38;5;124mElevator AI Assistant\u001b[39m\u001b[38;5;124m\"\u001b[39m, layout\u001b[38;5;241m=\u001b[39m\u001b[38;5;124m\"\u001b[39m\u001b[38;5;124mcentered\u001b[39m\u001b[38;5;124m\"\u001b[39m)\n\u001b[0;32m      5\u001b[0m st\u001b[38;5;241m.\u001b[39mtitle(\u001b[38;5;124m\"\u001b[39m\u001b[38;5;124m🛗 Elevator Mechanic AI Assistant\u001b[39m\u001b[38;5;124m\"\u001b[39m)\n",
      "\u001b[1;31mModuleNotFoundError\u001b[0m: No module named 'ask_ai'"
     ]
    }
   ],
   "source": [
    "import streamlit as st\n",
    "from ask_ai import ask_groq\n",
    "\n",
    "st.set_page_config(page_title=\"Elevator AI Assistant\", layout=\"centered\")\n",
    "st.title(\"🛗 Elevator Mechanic AI Assistant\")\n",
    "\n",
    "query = st.text_input(\"Ask a question about elevator repair...\")\n",
    "\n",
    "if query:\n",
    "    with st.spinner(\"Searching manuals and thinking...\"):\n",
    "        answer = ask_groq(query)\n",
    "    st.markdown(\"### 📘 Answer:\")\n",
    "    st.markdown(answer)\n"
   ]
  },
  {
   "cell_type": "code",
   "execution_count": null,
   "id": "5cafeed3-4337-4a74-8a80-4028c79dd787",
   "metadata": {},
   "outputs": [],
   "source": []
  }
 ],
 "metadata": {
  "kernelspec": {
   "display_name": "Python 3 (ipykernel)",
   "language": "python",
   "name": "python3"
  },
  "language_info": {
   "codemirror_mode": {
    "name": "ipython",
    "version": 3
   },
   "file_extension": ".py",
   "mimetype": "text/x-python",
   "name": "python",
   "nbconvert_exporter": "python",
   "pygments_lexer": "ipython3",
   "version": "3.12.4"
  }
 },
 "nbformat": 4,
 "nbformat_minor": 5
}
