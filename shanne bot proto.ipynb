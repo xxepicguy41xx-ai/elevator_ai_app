{
 "cells": [
  {
   "cell_type": "markdown",
   "id": "b4e3f429-e3b5-43c4-8a50-4c70a5f90058",
   "metadata": {},
   "source": [
    "# Shcanne Bot\n",
    "### The Goal of this project is to create an easy reference guide for elevator mechanics to quickly identify, troubleshoot, and solve issues.\n",
    "### Author: Alex Gill"
   ]
  },
  {
   "cell_type": "code",
   "execution_count": 1,
   "id": "b47d7b7a-3224-4eb9-bdfa-89574fd764d4",
   "metadata": {},
   "outputs": [
    {
     "name": "stdout",
     "output_type": "stream",
     "text": [
      "Collecting pymupdf\n",
      "  Downloading pymupdf-1.26.3-cp39-abi3-win_amd64.whl.metadata (3.4 kB)\n",
      "Collecting python-docx\n",
      "  Downloading python_docx-1.2.0-py3-none-any.whl.metadata (2.0 kB)\n",
      "Requirement already satisfied: beautifulsoup4 in c:\\users\\ajgil\\anaconda3\\lib\\site-packages (4.12.3)\n",
      "Collecting html5lib\n",
      "  Downloading html5lib-1.1-py2.py3-none-any.whl.metadata (16 kB)\n",
      "Collecting sentence-transformers\n",
      "  Downloading sentence_transformers-5.1.0-py3-none-any.whl.metadata (16 kB)\n",
      "Collecting faiss-cpu\n",
      "  Downloading faiss_cpu-1.11.0.post1-cp312-cp312-win_amd64.whl.metadata (5.1 kB)\n",
      "Collecting groq\n",
      "  Downloading groq-0.31.0-py3-none-any.whl.metadata (16 kB)\n",
      "Requirement already satisfied: python-dotenv in c:\\users\\ajgil\\anaconda3\\lib\\site-packages (0.21.0)\n",
      "Requirement already satisfied: lxml>=3.1.0 in c:\\users\\ajgil\\anaconda3\\lib\\site-packages (from python-docx) (5.2.1)\n",
      "Requirement already satisfied: typing_extensions>=4.9.0 in c:\\users\\ajgil\\anaconda3\\lib\\site-packages (from python-docx) (4.11.0)\n",
      "Requirement already satisfied: soupsieve>1.2 in c:\\users\\ajgil\\anaconda3\\lib\\site-packages (from beautifulsoup4) (2.5)\n",
      "Requirement already satisfied: six>=1.9 in c:\\users\\ajgil\\anaconda3\\lib\\site-packages (from html5lib) (1.16.0)\n",
      "Requirement already satisfied: webencodings in c:\\users\\ajgil\\anaconda3\\lib\\site-packages (from html5lib) (0.5.1)\n",
      "Collecting transformers<5.0.0,>=4.41.0 (from sentence-transformers)\n",
      "  Downloading transformers-4.55.0-py3-none-any.whl.metadata (39 kB)\n",
      "Requirement already satisfied: tqdm in c:\\users\\ajgil\\anaconda3\\lib\\site-packages (from sentence-transformers) (4.66.4)\n",
      "Collecting torch>=1.11.0 (from sentence-transformers)\n",
      "  Downloading torch-2.8.0-cp312-cp312-win_amd64.whl.metadata (30 kB)\n",
      "Requirement already satisfied: scikit-learn in c:\\users\\ajgil\\anaconda3\\lib\\site-packages (from sentence-transformers) (1.4.2)\n",
      "Requirement already satisfied: scipy in c:\\users\\ajgil\\anaconda3\\lib\\site-packages (from sentence-transformers) (1.13.1)\n",
      "Collecting huggingface-hub>=0.20.0 (from sentence-transformers)\n",
      "  Downloading huggingface_hub-0.34.3-py3-none-any.whl.metadata (14 kB)\n",
      "Requirement already satisfied: Pillow in c:\\users\\ajgil\\anaconda3\\lib\\site-packages (from sentence-transformers) (10.3.0)\n",
      "Requirement already satisfied: numpy<3.0,>=1.25.0 in c:\\users\\ajgil\\anaconda3\\lib\\site-packages (from faiss-cpu) (1.26.4)\n",
      "Requirement already satisfied: packaging in c:\\users\\ajgil\\anaconda3\\lib\\site-packages (from faiss-cpu) (23.2)\n",
      "Requirement already satisfied: anyio<5,>=3.5.0 in c:\\users\\ajgil\\anaconda3\\lib\\site-packages (from groq) (4.2.0)\n",
      "Requirement already satisfied: distro<2,>=1.7.0 in c:\\users\\ajgil\\anaconda3\\lib\\site-packages (from groq) (1.9.0)\n",
      "Requirement already satisfied: httpx<1,>=0.23.0 in c:\\users\\ajgil\\anaconda3\\lib\\site-packages (from groq) (0.27.0)\n",
      "Requirement already satisfied: pydantic<3,>=1.9.0 in c:\\users\\ajgil\\anaconda3\\lib\\site-packages (from groq) (2.5.3)\n",
      "Requirement already satisfied: sniffio in c:\\users\\ajgil\\anaconda3\\lib\\site-packages (from groq) (1.3.0)\n",
      "Requirement already satisfied: idna>=2.8 in c:\\users\\ajgil\\anaconda3\\lib\\site-packages (from anyio<5,>=3.5.0->groq) (3.7)\n",
      "Requirement already satisfied: certifi in c:\\users\\ajgil\\anaconda3\\lib\\site-packages (from httpx<1,>=0.23.0->groq) (2024.8.30)\n",
      "Requirement already satisfied: httpcore==1.* in c:\\users\\ajgil\\anaconda3\\lib\\site-packages (from httpx<1,>=0.23.0->groq) (1.0.2)\n",
      "Requirement already satisfied: h11<0.15,>=0.13 in c:\\users\\ajgil\\anaconda3\\lib\\site-packages (from httpcore==1.*->httpx<1,>=0.23.0->groq) (0.14.0)\n",
      "Requirement already satisfied: filelock in c:\\users\\ajgil\\anaconda3\\lib\\site-packages (from huggingface-hub>=0.20.0->sentence-transformers) (3.13.1)\n",
      "Requirement already satisfied: fsspec>=2023.5.0 in c:\\users\\ajgil\\anaconda3\\lib\\site-packages (from huggingface-hub>=0.20.0->sentence-transformers) (2024.3.1)\n",
      "Requirement already satisfied: pyyaml>=5.1 in c:\\users\\ajgil\\anaconda3\\lib\\site-packages (from huggingface-hub>=0.20.0->sentence-transformers) (6.0.1)\n",
      "Requirement already satisfied: requests in c:\\users\\ajgil\\anaconda3\\lib\\site-packages (from huggingface-hub>=0.20.0->sentence-transformers) (2.32.2)\n",
      "Requirement already satisfied: annotated-types>=0.4.0 in c:\\users\\ajgil\\anaconda3\\lib\\site-packages (from pydantic<3,>=1.9.0->groq) (0.6.0)\n",
      "Requirement already satisfied: pydantic-core==2.14.6 in c:\\users\\ajgil\\anaconda3\\lib\\site-packages (from pydantic<3,>=1.9.0->groq) (2.14.6)\n",
      "Collecting sympy>=1.13.3 (from torch>=1.11.0->sentence-transformers)\n",
      "  Downloading sympy-1.14.0-py3-none-any.whl.metadata (12 kB)\n",
      "Requirement already satisfied: networkx in c:\\users\\ajgil\\anaconda3\\lib\\site-packages (from torch>=1.11.0->sentence-transformers) (3.2.1)\n",
      "Requirement already satisfied: jinja2 in c:\\users\\ajgil\\anaconda3\\lib\\site-packages (from torch>=1.11.0->sentence-transformers) (3.1.4)\n",
      "Requirement already satisfied: setuptools in c:\\users\\ajgil\\anaconda3\\lib\\site-packages (from torch>=1.11.0->sentence-transformers) (69.5.1)\n",
      "Requirement already satisfied: colorama in c:\\users\\ajgil\\anaconda3\\lib\\site-packages (from tqdm->sentence-transformers) (0.4.6)\n",
      "Requirement already satisfied: regex!=2019.12.17 in c:\\users\\ajgil\\anaconda3\\lib\\site-packages (from transformers<5.0.0,>=4.41.0->sentence-transformers) (2023.10.3)\n",
      "Collecting tokenizers<0.22,>=0.21 (from transformers<5.0.0,>=4.41.0->sentence-transformers)\n",
      "  Downloading tokenizers-0.21.4-cp39-abi3-win_amd64.whl.metadata (6.9 kB)\n",
      "Collecting safetensors>=0.4.3 (from transformers<5.0.0,>=4.41.0->sentence-transformers)\n",
      "  Downloading safetensors-0.6.1-cp38-abi3-win_amd64.whl.metadata (4.1 kB)\n",
      "Requirement already satisfied: joblib>=1.2.0 in c:\\users\\ajgil\\anaconda3\\lib\\site-packages (from scikit-learn->sentence-transformers) (1.4.2)\n",
      "Requirement already satisfied: threadpoolctl>=2.0.0 in c:\\users\\ajgil\\anaconda3\\lib\\site-packages (from scikit-learn->sentence-transformers) (2.2.0)\n",
      "Requirement already satisfied: mpmath<1.4,>=1.1.0 in c:\\users\\ajgil\\anaconda3\\lib\\site-packages (from sympy>=1.13.3->torch>=1.11.0->sentence-transformers) (1.3.0)\n",
      "Requirement already satisfied: MarkupSafe>=2.0 in c:\\users\\ajgil\\anaconda3\\lib\\site-packages (from jinja2->torch>=1.11.0->sentence-transformers) (2.1.3)\n",
      "Requirement already satisfied: charset-normalizer<4,>=2 in c:\\users\\ajgil\\anaconda3\\lib\\site-packages (from requests->huggingface-hub>=0.20.0->sentence-transformers) (2.0.4)\n",
      "Requirement already satisfied: urllib3<3,>=1.21.1 in c:\\users\\ajgil\\anaconda3\\lib\\site-packages (from requests->huggingface-hub>=0.20.0->sentence-transformers) (2.2.2)\n",
      "Downloading pymupdf-1.26.3-cp39-abi3-win_amd64.whl (18.7 MB)\n",
      "   ---------------------------------------- 0.0/18.7 MB ? eta -:--:--\n",
      "    --------------------------------------- 0.3/18.7 MB 9.9 MB/s eta 0:00:02\n",
      "   --- ------------------------------------ 1.8/18.7 MB 23.5 MB/s eta 0:00:01\n",
      "   ---------- ----------------------------- 5.0/18.7 MB 39.6 MB/s eta 0:00:01\n",
      "   ---------------- ----------------------- 7.7/18.7 MB 44.9 MB/s eta 0:00:01\n",
      "   ----------------------- ---------------- 11.0/18.7 MB 59.5 MB/s eta 0:00:01\n",
      "   ------------------------------ --------- 14.3/18.7 MB 65.6 MB/s eta 0:00:01\n",
      "   ------------------------------------ --- 17.0/18.7 MB 65.6 MB/s eta 0:00:01\n",
      "   ---------------------------------------  18.7/18.7 MB 72.6 MB/s eta 0:00:01\n",
      "   ---------------------------------------- 18.7/18.7 MB 59.5 MB/s eta 0:00:00\n",
      "Downloading python_docx-1.2.0-py3-none-any.whl (252 kB)\n",
      "   ---------------------------------------- 0.0/253.0 kB ? eta -:--:--\n",
      "   --------------------------------------- 253.0/253.0 kB 16.2 MB/s eta 0:00:00\n",
      "Downloading html5lib-1.1-py2.py3-none-any.whl (112 kB)\n",
      "   ---------------------------------------- 0.0/112.2 kB ? eta -:--:--\n",
      "   ---------------------------------------- 112.2/112.2 kB ? eta 0:00:00\n",
      "Downloading sentence_transformers-5.1.0-py3-none-any.whl (483 kB)\n",
      "   ---------------------------------------- 0.0/483.4 kB ? eta -:--:--\n",
      "   --------------------------------------- 483.4/483.4 kB 14.8 MB/s eta 0:00:00\n",
      "Downloading faiss_cpu-1.11.0.post1-cp312-cp312-win_amd64.whl (14.9 MB)\n",
      "   ---------------------------------------- 0.0/14.9 MB ? eta -:--:--\n",
      "   --------- ------------------------------ 3.5/14.9 MB 73.2 MB/s eta 0:00:01\n",
      "   ----------------- ---------------------- 6.7/14.9 MB 70.8 MB/s eta 0:00:01\n",
      "   -------------------------- ------------- 10.0/14.9 MB 70.6 MB/s eta 0:00:01\n",
      "   ----------------------------------- ---- 13.0/14.9 MB 65.2 MB/s eta 0:00:01\n",
      "   ---------------------------------------- 14.9/14.9 MB 59.4 MB/s eta 0:00:00\n",
      "Downloading groq-0.31.0-py3-none-any.whl (131 kB)\n",
      "   ---------------------------------------- 0.0/131.4 kB ? eta -:--:--\n",
      "   ---------------------------------------- 131.4/131.4 kB 7.6 MB/s eta 0:00:00\n",
      "Downloading huggingface_hub-0.34.3-py3-none-any.whl (558 kB)\n",
      "   ---------------------------------------- 0.0/558.8 kB ? eta -:--:--\n",
      "   ---------------------------------------- 558.8/558.8 kB ? eta 0:00:00\n",
      "Downloading torch-2.8.0-cp312-cp312-win_amd64.whl (241.3 MB)\n",
      "   ---------------------------------------- 0.0/241.3 MB ? eta -:--:--\n",
      "    --------------------------------------- 3.3/241.3 MB 70.4 MB/s eta 0:00:04\n",
      "    --------------------------------------- 4.6/241.3 MB 74.0 MB/s eta 0:00:04\n",
      "   - -------------------------------------- 9.5/241.3 MB 76.2 MB/s eta 0:00:04\n",
      "   -- ------------------------------------- 13.1/241.3 MB 72.6 MB/s eta 0:00:04\n",
      "   -- ------------------------------------- 16.2/241.3 MB 93.9 MB/s eta 0:00:03\n",
      "   --- ------------------------------------ 19.6/241.3 MB 73.1 MB/s eta 0:00:04\n",
      "   --- ------------------------------------ 22.8/241.3 MB 73.1 MB/s eta 0:00:03\n",
      "   ---- ----------------------------------- 26.2/241.3 MB 72.6 MB/s eta 0:00:03\n",
      "   ---- ----------------------------------- 29.4/241.3 MB 72.6 MB/s eta 0:00:03\n",
      "   ----- ---------------------------------- 32.7/241.3 MB 72.6 MB/s eta 0:00:03\n",
      "   ----- ---------------------------------- 35.8/241.3 MB 72.6 MB/s eta 0:00:03\n",
      "   ------ --------------------------------- 38.5/241.3 MB 65.2 MB/s eta 0:00:04\n",
      "   ------ --------------------------------- 41.7/241.3 MB 65.6 MB/s eta 0:00:04\n",
      "   ------- -------------------------------- 45.0/241.3 MB 65.6 MB/s eta 0:00:03\n",
      "   -------- ------------------------------- 48.3/241.3 MB 65.6 MB/s eta 0:00:03\n",
      "   -------- ------------------------------- 51.5/241.3 MB 65.6 MB/s eta 0:00:03\n",
      "   --------- ------------------------------ 54.9/241.3 MB 65.6 MB/s eta 0:00:03\n",
      "   --------- ------------------------------ 58.1/241.3 MB 65.6 MB/s eta 0:00:03\n",
      "   ---------- ----------------------------- 61.3/241.3 MB 72.6 MB/s eta 0:00:03\n",
      "   ---------- ----------------------------- 64.8/241.3 MB 72.6 MB/s eta 0:00:03\n",
      "   ----------- ---------------------------- 68.0/241.3 MB 72.6 MB/s eta 0:00:03\n",
      "   ----------- ---------------------------- 71.3/241.3 MB 72.6 MB/s eta 0:00:03\n",
      "   ------------ --------------------------- 74.4/241.3 MB 72.6 MB/s eta 0:00:03\n",
      "   ------------ --------------------------- 77.7/241.3 MB 73.1 MB/s eta 0:00:03\n",
      "   ------------- -------------------------- 80.7/241.3 MB 65.6 MB/s eta 0:00:03\n",
      "   ------------- -------------------------- 83.5/241.3 MB 73.1 MB/s eta 0:00:03\n",
      "   -------------- ------------------------- 86.5/241.3 MB 65.6 MB/s eta 0:00:03\n",
      "   -------------- ------------------------- 89.5/241.3 MB 65.6 MB/s eta 0:00:03\n",
      "   --------------- ------------------------ 92.3/241.3 MB 65.6 MB/s eta 0:00:03\n",
      "   --------------- ------------------------ 95.3/241.3 MB 65.2 MB/s eta 0:00:03\n",
      "   ---------------- ----------------------- 98.2/241.3 MB 59.5 MB/s eta 0:00:03\n",
      "   ---------------- ---------------------- 101.2/241.3 MB 59.8 MB/s eta 0:00:03\n",
      "   ---------------- ---------------------- 104.2/241.3 MB 59.5 MB/s eta 0:00:03\n",
      "   ----------------- --------------------- 107.0/241.3 MB 59.5 MB/s eta 0:00:03\n",
      "   ----------------- --------------------- 110.0/241.3 MB 59.5 MB/s eta 0:00:03\n",
      "   ------------------ -------------------- 112.9/241.3 MB 65.6 MB/s eta 0:00:02\n",
      "   ------------------ -------------------- 115.6/241.3 MB 65.6 MB/s eta 0:00:02\n",
      "   ------------------ -------------------- 116.1/241.3 MB 54.7 MB/s eta 0:00:03\n",
      "   ------------------- ------------------- 119.4/241.3 MB 54.4 MB/s eta 0:00:03\n",
      "   ------------------- ------------------- 122.3/241.3 MB 54.4 MB/s eta 0:00:03\n",
      "   -------------------- ------------------ 125.2/241.3 MB 54.4 MB/s eta 0:00:03\n",
      "   -------------------- ------------------ 127.9/241.3 MB 72.6 MB/s eta 0:00:02\n",
      "   --------------------- ----------------- 130.3/241.3 MB 59.8 MB/s eta 0:00:02\n",
      "   --------------------- ----------------- 132.8/241.3 MB 54.7 MB/s eta 0:00:02\n",
      "   --------------------- ----------------- 134.5/241.3 MB 50.4 MB/s eta 0:00:03\n",
      "   ---------------------- ---------------- 137.2/241.3 MB 54.7 MB/s eta 0:00:02\n",
      "   ---------------------- ---------------- 137.8/241.3 MB 43.7 MB/s eta 0:00:03\n",
      "   ---------------------- ---------------- 141.7/241.3 MB 46.7 MB/s eta 0:00:03\n",
      "   ----------------------- --------------- 144.5/241.3 MB 54.4 MB/s eta 0:00:02\n",
      "   ----------------------- --------------- 147.2/241.3 MB 50.1 MB/s eta 0:00:02\n",
      "   ------------------------ -------------- 149.7/241.3 MB 59.5 MB/s eta 0:00:02\n",
      "   ------------------------ -------------- 152.6/241.3 MB 59.5 MB/s eta 0:00:02\n",
      "   ------------------------ -------------- 154.5/241.3 MB 54.4 MB/s eta 0:00:02\n",
      "   ------------------------- ------------- 157.3/241.3 MB 54.7 MB/s eta 0:00:02\n",
      "   ------------------------- ------------- 160.4/241.3 MB 59.5 MB/s eta 0:00:02\n",
      "   -------------------------- ------------ 162.9/241.3 MB 59.5 MB/s eta 0:00:02\n",
      "   -------------------------- ------------ 165.5/241.3 MB 59.5 MB/s eta 0:00:02\n",
      "   --------------------------- ----------- 168.2/241.3 MB 59.5 MB/s eta 0:00:02\n",
      "   --------------------------- ----------- 170.9/241.3 MB 59.5 MB/s eta 0:00:02\n",
      "   ---------------------------- ---------- 173.4/241.3 MB 54.4 MB/s eta 0:00:02\n",
      "   ---------------------------- ---------- 176.3/241.3 MB 59.5 MB/s eta 0:00:02\n",
      "   ---------------------------- ---------- 178.6/241.3 MB 59.8 MB/s eta 0:00:02\n",
      "   ----------------------------- --------- 181.1/241.3 MB 54.7 MB/s eta 0:00:02\n",
      "   ----------------------------- --------- 184.0/241.3 MB 54.7 MB/s eta 0:00:02\n",
      "   ------------------------------ -------- 187.1/241.3 MB 65.6 MB/s eta 0:00:01\n",
      "   ------------------------------ -------- 189.8/241.3 MB 65.6 MB/s eta 0:00:01\n",
      "   ------------------------------- ------- 192.9/241.3 MB 65.6 MB/s eta 0:00:01\n",
      "   ------------------------------- ------- 195.6/241.3 MB 65.6 MB/s eta 0:00:01\n",
      "   -------------------------------- ------ 198.5/241.3 MB 65.6 MB/s eta 0:00:01\n",
      "   -------------------------------- ------ 201.6/241.3 MB 65.6 MB/s eta 0:00:01\n",
      "   --------------------------------- ----- 204.6/241.3 MB 65.2 MB/s eta 0:00:01\n",
      "   --------------------------------- ----- 207.2/241.3 MB 59.5 MB/s eta 0:00:01\n",
      "   --------------------------------- ----- 210.1/241.3 MB 59.8 MB/s eta 0:00:01\n",
      "   ---------------------------------- ---- 212.3/241.3 MB 54.7 MB/s eta 0:00:01\n",
      "   ---------------------------------- ---- 215.8/241.3 MB 59.5 MB/s eta 0:00:01\n",
      "   ----------------------------------- --- 218.9/241.3 MB 59.5 MB/s eta 0:00:01\n",
      "   ----------------------------------- --- 220.9/241.3 MB 59.5 MB/s eta 0:00:01\n",
      "   ------------------------------------ -- 223.8/241.3 MB 59.5 MB/s eta 0:00:01\n",
      "   ------------------------------------ -- 226.6/241.3 MB 59.5 MB/s eta 0:00:01\n",
      "   ------------------------------------- - 229.9/241.3 MB 65.6 MB/s eta 0:00:01\n",
      "   ------------------------------------- - 232.7/241.3 MB 65.6 MB/s eta 0:00:01\n",
      "   --------------------------------------  235.5/241.3 MB 65.2 MB/s eta 0:00:01\n",
      "   --------------------------------------  238.7/241.3 MB 65.2 MB/s eta 0:00:01\n",
      "   --------------------------------------  241.3/241.3 MB 65.6 MB/s eta 0:00:01\n",
      "   --------------------------------------  241.3/241.3 MB 65.6 MB/s eta 0:00:01\n",
      "   --------------------------------------  241.3/241.3 MB 65.6 MB/s eta 0:00:01\n",
      "   --------------------------------------  241.3/241.3 MB 65.6 MB/s eta 0:00:01\n",
      "   --------------------------------------  241.3/241.3 MB 65.6 MB/s eta 0:00:01\n",
      "   --------------------------------------  241.3/241.3 MB 65.6 MB/s eta 0:00:01\n",
      "   --------------------------------------- 241.3/241.3 MB 23.4 MB/s eta 0:00:00\n",
      "Downloading transformers-4.55.0-py3-none-any.whl (11.3 MB)\n",
      "   ---------------------------------------- 0.0/11.3 MB ? eta -:--:--\n",
      "   -------- ------------------------------- 2.5/11.3 MB 53.6 MB/s eta 0:00:01\n",
      "   ------------------ --------------------- 5.3/11.3 MB 56.6 MB/s eta 0:00:01\n",
      "   --------------------------- ------------ 7.9/11.3 MB 56.2 MB/s eta 0:00:01\n",
      "   ----------------------------------- ---- 10.0/11.3 MB 58.2 MB/s eta 0:00:01\n",
      "   ---------------------------------------- 11.3/11.3 MB 50.4 MB/s eta 0:00:00\n",
      "Downloading safetensors-0.6.1-cp38-abi3-win_amd64.whl (320 kB)\n",
      "   ---------------------------------------- 0.0/320.3 kB ? eta -:--:--\n",
      "   ---------------------------------------- 320.3/320.3 kB ? eta 0:00:00\n",
      "Downloading sympy-1.14.0-py3-none-any.whl (6.3 MB)\n",
      "   ---------------------------------------- 0.0/6.3 MB ? eta -:--:--\n",
      "   -------------- ------------------------- 2.3/6.3 MB 72.6 MB/s eta 0:00:01\n",
      "   ------------------------------------- -- 5.9/6.3 MB 75.7 MB/s eta 0:00:01\n",
      "   ---------------------------------------- 6.3/6.3 MB 57.2 MB/s eta 0:00:00\n",
      "Downloading tokenizers-0.21.4-cp39-abi3-win_amd64.whl (2.5 MB)\n",
      "   ---------------------------------------- 0.0/2.5 MB ? eta -:--:--\n",
      "   --------------------------- ------------ 1.8/2.5 MB 108.8 MB/s eta 0:00:01\n",
      "   ---------------------------------------- 2.5/2.5 MB 53.1 MB/s eta 0:00:00\n",
      "Installing collected packages: sympy, safetensors, python-docx, pymupdf, html5lib, faiss-cpu, torch, huggingface-hub, tokenizers, groq, transformers, sentence-transformers\n",
      "  Attempting uninstall: sympy\n",
      "    Found existing installation: sympy 1.12\n",
      "    Uninstalling sympy-1.12:\n",
      "      Successfully uninstalled sympy-1.12\n",
      "Successfully installed faiss-cpu-1.11.0.post1 groq-0.31.0 html5lib-1.1 huggingface-hub-0.34.3 pymupdf-1.26.3 python-docx-1.2.0 safetensors-0.6.1 sentence-transformers-5.1.0 sympy-1.14.0 tokenizers-0.21.4 torch-2.8.0 transformers-4.55.0\n"
     ]
    }
   ],
   "source": [
    "#Install Packages\n",
    "!pip install pymupdf python-docx beautifulsoup4 html5lib sentence-transformers faiss-cpu groq python-dotenv\n"
   ]
  },
  {
   "cell_type": "code",
   "execution_count": 3,
   "id": "c91f9941-7697-49ce-a90e-97f55fb172be",
   "metadata": {},
   "outputs": [],
   "source": [
    "#Imports and setups\n",
    "import os\n",
    "import json\n",
    "import fitz  # for PDFs\n",
    "from bs4 import BeautifulSoup  # for HTML\n",
    "from docx import Document  # for Word\n",
    "from tqdm import tqdm  # progress bar\n"
   ]
  },
  {
   "cell_type": "code",
   "execution_count": 5,
   "id": "9ed8849f-dd30-4975-9e1f-e837e91c7968",
   "metadata": {},
   "outputs": [],
   "source": [
    "#Helper to Chunk Text\n",
    "def chunk_text(text, size=500):\n",
    "    words = text.split()\n",
    "    return [' '.join(words[i:i+size]) for i in range(0, len(words), size)]\n"
   ]
  },
  {
   "cell_type": "code",
   "execution_count": null,
   "id": "701e89d0-f5d6-4d80-9b53-102f583b1ba8",
   "metadata": {},
   "outputs": [],
   "source": [
    "os.list"
   ]
  },
  {
   "cell_type": "code",
   "execution_count": 9,
   "id": "b444ce93-2d9b-4846-9d07-9465719fbcc8",
   "metadata": {},
   "outputs": [
    {
     "name": "stderr",
     "output_type": "stream",
     "text": [
      "  1%|          | 4/519 [00:00<00:30, 16.86it/s]"
     ]
    },
    {
     "name": "stdout",
     "output_type": "stream",
     "text": [
      "Unsupported file: 103717EN.WPW\n"
     ]
    },
    {
     "name": "stderr",
     "output_type": "stream",
     "text": [
      "  8%|▊         | 40/519 [00:11<03:59,  2.00it/s]"
     ]
    },
    {
     "name": "stdout",
     "output_type": "stream",
     "text": [
      "Unsupported file: 50av absolutes.doc\n",
      "Unsupported file: 7893c1.tst1\n"
     ]
    },
    {
     "name": "stderr",
     "output_type": "stream",
     "text": [
      " 19%|█▉        | 98/519 [00:12<00:30, 13.99it/s]"
     ]
    },
    {
     "name": "stdout",
     "output_type": "stream",
     "text": [
      "MuPDF error: format error: cmsOpenProfileFromMem failed\n",
      "\n",
      "MuPDF error: format error: cmsOpenProfileFromMem failed\n",
      "\n",
      "MuPDF error: format error: cmsOpenProfileFromMem failed\n",
      "\n",
      "MuPDF error: format error: cmsOpenProfileFromMem failed\n",
      "\n",
      "MuPDF error: format error: cmsOpenProfileFromMem failed\n",
      "\n"
     ]
    },
    {
     "name": "stderr",
     "output_type": "stream",
     "text": [
      " 23%|██▎       | 121/519 [00:14<00:25, 15.43it/s]"
     ]
    },
    {
     "name": "stdout",
     "output_type": "stream",
     "text": [
      "Unsupported file: balancing.doc\n",
      "Unsupported file: BRAKE.SUP\n"
     ]
    },
    {
     "name": "stderr",
     "output_type": "stream",
     "text": [
      " 34%|███▍      | 177/519 [00:15<00:03, 86.78it/s]"
     ]
    },
    {
     "name": "stdout",
     "output_type": "stream",
     "text": [
      "Unsupported file: COMM.B17\n",
      "Unsupported file: D48_Burn_ 9000 hex files.doc\n",
      "Unsupported file: document decriptions.xls\n"
     ]
    },
    {
     "name": "stderr",
     "output_type": "stream",
     "text": [
      " 39%|███▊      | 201/519 [00:15<00:05, 56.70it/s]"
     ]
    },
    {
     "name": "stdout",
     "output_type": "stream",
     "text": [
      "Unsupported file: dummy vanes + EAQ.doc\n"
     ]
    },
    {
     "name": "stderr",
     "output_type": "stream",
     "text": [
      " 41%|████      | 213/519 [00:16<00:12, 23.67it/s]"
     ]
    },
    {
     "name": "stdout",
     "output_type": "stream",
     "text": [
      "Unsupported file: fault_desc.xls\n"
     ]
    },
    {
     "name": "stderr",
     "output_type": "stream",
     "text": [
      " 48%|████▊     | 251/519 [00:21<00:17, 15.30it/s]"
     ]
    },
    {
     "name": "stdout",
     "output_type": "stream",
     "text": [
      "Unsupported file: Image 2016-07-28 07_38 PM.jpg\n",
      "Unsupported file: Image 2016-10-31 10-50-26.jpeg\n",
      "Unsupported file: Image 2017-01-17 12-45-28.jpeg\n",
      "Unsupported file: Image 2017-07-19 13-09-30.jpeg\n",
      "Unsupported file: Image 2018-06-19 09-01-10.jpeg\n",
      "Unsupported file: Image 2018-09-14 07-40-46.jpeg\n",
      "Unsupported file: Image 2019-07-02 12-06-29.jpeg\n",
      "Unsupported file: Image 2022-11-03 11-05-53.jpeg\n",
      "Unsupported file: Image 2022-11-05 14-15-58.jpeg\n",
      "Unsupported file: Image 2023-05-01 09-06-38.jpeg\n",
      "Unsupported file: Image 2023-05-01 09-06-55.jpeg\n",
      "Unsupported file: Image 2023-05-01 09-07-13.jpeg\n"
     ]
    },
    {
     "name": "stderr",
     "output_type": "stream",
     "text": [
      " 53%|█████▎    | 277/519 [00:29<01:06,  3.62it/s]"
     ]
    },
    {
     "name": "stdout",
     "output_type": "stream",
     "text": [
      "Unsupported file: INSTALL.BAT\n",
      "Unsupported file: INSTALLC.BAT\n"
     ]
    },
    {
     "name": "stderr",
     "output_type": "stream",
     "text": [
      " 58%|█████▊    | 302/519 [00:30<00:16, 13.06it/s]"
     ]
    },
    {
     "name": "stdout",
     "output_type": "stream",
     "text": [
      "Unsupported file: Load Weighing Adjustment.doc\n"
     ]
    },
    {
     "name": "stderr",
     "output_type": "stream",
     "text": [
      " 59%|█████▉    | 308/519 [00:32<00:28,  7.50it/s]"
     ]
    },
    {
     "name": "stdout",
     "output_type": "stream",
     "text": [
      "Unsupported file: MCE Tech Bulletin VVMC controls .png\n"
     ]
    },
    {
     "name": "stderr",
     "output_type": "stream",
     "text": [
      " 61%|██████    | 315/519 [00:33<00:24,  8.25it/s]"
     ]
    },
    {
     "name": "stdout",
     "output_type": "stream",
     "text": [
      "Unsupported file: Miprom HS_ST Parameters in Service Tool.xls\n",
      "Unsupported file: Miprom ST fault code list.xls\n"
     ]
    },
    {
     "name": "stderr",
     "output_type": "stream",
     "text": [
      " 64%|██████▍   | 333/519 [00:37<00:39,  4.76it/s]"
     ]
    },
    {
     "name": "stdout",
     "output_type": "stream",
     "text": [
      "MuPDF error: format error: cmsOpenProfileFromMem failed\n",
      "\n",
      "MuPDF error: format error: cmsOpenProfileFromMem failed\n",
      "\n",
      "MuPDF error: format error: cmsOpenProfileFromMem failed\n",
      "\n",
      "MuPDF error: format error: cmsOpenProfileFromMem failed\n",
      "\n",
      "MuPDF error: format error: cmsOpenProfileFromMem failed\n",
      "\n",
      "MuPDF error: format error: cmsOpenProfileFromMem failed\n",
      "\n"
     ]
    },
    {
     "name": "stderr",
     "output_type": "stream",
     "text": [
      " 66%|██████▌   | 341/519 [00:37<00:24,  7.32it/s]"
     ]
    },
    {
     "name": "stdout",
     "output_type": "stream",
     "text": [
      "MuPDF error: format error: cmsOpenProfileFromMem failed\n",
      "\n",
      "MuPDF error: format error: cmsOpenProfileFromMem failed\n",
      "\n",
      "MuPDF error: format error: cmsOpenProfileFromMem failed\n",
      "\n",
      "MuPDF error: format error: cmsOpenProfileFromMem failed\n",
      "\n",
      "MuPDF error: format error: cmsOpenProfileFromMem failed\n",
      "\n",
      "MuPDF error: format error: cmsOpenProfileFromMem failed\n",
      "\n",
      "MuPDF error: format error: cmsOpenProfileFromMem failed\n",
      "\n",
      "MuPDF error: format error: cmsOpenProfileFromMem failed\n",
      "\n",
      "MuPDF error: format error: cmsOpenProfileFromMem failed\n",
      "\n",
      "MuPDF error: format error: cmsOpenProfileFromMem failed\n",
      "\n",
      "MuPDF error: format error: cmsOpenProfileFromMem failed\n",
      "\n",
      "MuPDF error: format error: cmsOpenProfileFromMem failed\n",
      "\n",
      "MuPDF error: format error: cmsOpenProfileFromMem failed\n",
      "\n",
      "MuPDF error: format error: cmsOpenProfileFromMem failed\n",
      "\n"
     ]
    },
    {
     "name": "stderr",
     "output_type": "stream",
     "text": [
      " 66%|██████▌   | 343/519 [00:38<00:24,  7.12it/s]"
     ]
    },
    {
     "name": "stdout",
     "output_type": "stream",
     "text": [
      "MuPDF error: format error: cmsOpenProfileFromMem failed\n",
      "\n",
      "MuPDF error: format error: cmsOpenProfileFromMem failed\n",
      "\n",
      "MuPDF error: format error: cmsOpenProfileFromMem failed\n",
      "\n",
      "MuPDF error: format error: cmsOpenProfileFromMem failed\n",
      "\n",
      "MuPDF error: format error: cmsOpenProfileFromMem failed\n",
      "\n",
      "MuPDF error: format error: cmsOpenProfileFromMem failed\n",
      "\n",
      "MuPDF error: format error: cmsOpenProfileFromMem failed\n",
      "\n",
      "MuPDF error: format error: cmsOpenProfileFromMem failed\n",
      "\n",
      "MuPDF error: format error: cmsOpenProfileFromMem failed\n",
      "\n",
      "MuPDF error: format error: cmsOpenProfileFromMem failed\n",
      "\n"
     ]
    },
    {
     "name": "stderr",
     "output_type": "stream",
     "text": [
      " 67%|██████▋   | 348/519 [00:38<00:15, 10.70it/s]"
     ]
    },
    {
     "name": "stdout",
     "output_type": "stream",
     "text": [
      "MuPDF error: format error: cmsOpenProfileFromMem failed\n",
      "\n",
      "MuPDF error: format error: cmsOpenProfileFromMem failed\n",
      "\n"
     ]
    },
    {
     "name": "stderr",
     "output_type": "stream",
     "text": [
      " 68%|██████▊   | 352/519 [00:38<00:18,  9.15it/s]"
     ]
    },
    {
     "name": "stdout",
     "output_type": "stream",
     "text": [
      "Unsupported file: PULSE.H57\n"
     ]
    },
    {
     "name": "stderr",
     "output_type": "stream",
     "text": [
      " 69%|██████▊   | 356/519 [00:39<00:16,  9.97it/s]"
     ]
    },
    {
     "name": "stdout",
     "output_type": "stream",
     "text": [
      "Unsupported file: Quick Start-Up List - v1.72 - PM Motors, Serial Control.doc\n"
     ]
    },
    {
     "name": "stderr",
     "output_type": "stream",
     "text": [
      " 74%|███████▍  | 385/519 [00:39<00:04, 27.49it/s]"
     ]
    },
    {
     "name": "stdout",
     "output_type": "stream",
     "text": [
      "Unsupported file: Ropegripper TROUBLE SHOOTING.doc\n",
      "Unsupported file: SAFETY-TEST-SHORTCUTS.xls\n"
     ]
    },
    {
     "name": "stderr",
     "output_type": "stream",
     "text": [
      " 79%|███████▊  | 408/519 [00:43<00:12,  8.98it/s]"
     ]
    },
    {
     "name": "stdout",
     "output_type": "stream",
     "text": [
      "Unsupported file: Scindler TX ACUM.jpg\n",
      "Unsupported file: Shop Rite Union Mill R&R unit.msg\n",
      "Unsupported file: SmartRise 6 DENNY RD  software 181016-005.msg\n"
     ]
    },
    {
     "name": "stderr",
     "output_type": "stream",
     "text": [
      " 82%|████████▏ | 423/519 [00:43<00:05, 17.40it/s]"
     ]
    },
    {
     "name": "stdout",
     "output_type": "stream",
     "text": [
      "Unsupported file: Southeastern PT.JPG\n",
      "Unsupported file: Spares_connectors.rtf\n"
     ]
    },
    {
     "name": "stderr",
     "output_type": "stream",
     "text": [
      " 83%|████████▎ | 432/519 [00:45<00:08,  9.96it/s]"
     ]
    },
    {
     "name": "stdout",
     "output_type": "stream",
     "text": [
      "Unsupported file: TAC 32 pressure test.jpeg\n"
     ]
    },
    {
     "name": "stderr",
     "output_type": "stream",
     "text": [
      " 90%|████████▉ | 465/519 [00:57<00:08,  6.27it/s]"
     ]
    },
    {
     "name": "stdout",
     "output_type": "stream",
     "text": [
      "Unsupported file: TEST.CFG\n",
      "Unsupported file: TEST.PTR\n",
      "Unsupported file: Testaid.doc\n"
     ]
    },
    {
     "name": "stderr",
     "output_type": "stream",
     "text": [
      " 90%|█████████ | 468/519 [00:57<00:07,  7.04it/s]"
     ]
    },
    {
     "name": "stdout",
     "output_type": "stream",
     "text": [
      "Unsupported file: TMS 900  FIELD  MODULE .doc\n",
      "Unsupported file: TMS50av update doc.doc\n",
      "Unsupported file: Tms600.zip\n"
     ]
    },
    {
     "name": "stderr",
     "output_type": "stream",
     "text": [
      " 95%|█████████▌| 495/519 [01:03<00:02,  8.41it/s]"
     ]
    },
    {
     "name": "stdout",
     "output_type": "stream",
     "text": [
      "Unsupported file: USING.CFG\n"
     ]
    },
    {
     "name": "stderr",
     "output_type": "stream",
     "text": [
      " 99%|█████████▉| 515/519 [01:11<00:01,  2.31it/s]"
     ]
    },
    {
     "name": "stdout",
     "output_type": "stream",
     "text": [
      "MuPDF error: format error: cmsOpenProfileFromMem failed\n",
      "\n"
     ]
    },
    {
     "name": "stderr",
     "output_type": "stream",
     "text": [
      "100%|██████████| 519/519 [01:12<00:00,  7.18it/s]\n"
     ]
    },
    {
     "name": "stdout",
     "output_type": "stream",
     "text": [
      "✅ Extracted 24648 chunks from 24648 sources.\n"
     ]
    }
   ],
   "source": [
    "#Extract and chunk for processing\n",
    "chunks = []\n",
    "sources = []\n",
    "\n",
    "manuals_folder = \"manuals\"\n",
    "\n",
    "for filename in tqdm(os.listdir(manuals_folder)):\n",
    "    path = os.path.join(manuals_folder, filename)\n",
    "    ext = os.path.splitext(filename)[1].lower()\n",
    "\n",
    "    try:\n",
    "        if ext == \".pdf\":\n",
    "            doc = fitz.open(path)\n",
    "            for page_num in range(len(doc)):\n",
    "                text = doc[page_num].get_text()\n",
    "                for chunk in chunk_text(text):\n",
    "                    chunks.append(chunk)\n",
    "                    sources.append({\"manual\": filename, \"page\": page_num + 1})\n",
    "\n",
    "        elif ext == \".docx\":\n",
    "            doc = Document(path)\n",
    "            text = \"\\n\".join([p.text for p in doc.paragraphs if p.text.strip()])\n",
    "            for chunk in chunk_text(text):\n",
    "                chunks.append(chunk)\n",
    "                sources.append({\"manual\": filename, \"page\": 1})\n",
    "\n",
    "        elif ext == \".txt\" or ext == \".w51\":\n",
    "            with open(path, \"r\", encoding=\"utf-8\", errors=\"ignore\") as f:\n",
    "                text = f.read()\n",
    "            for chunk in chunk_text(text):\n",
    "                chunks.append(chunk)\n",
    "                sources.append({\"manual\": filename, \"page\": 1})\n",
    "\n",
    "        elif ext == \".html\" or ext == \".htm\":\n",
    "            with open(path, \"r\", encoding=\"utf-8\", errors=\"ignore\") as f:\n",
    "                soup = BeautifulSoup(f, \"html5lib\")\n",
    "                text = soup.get_text(separator=' ')\n",
    "            for chunk in chunk_text(text):\n",
    "                chunks.append(chunk)\n",
    "                sources.append({\"manual\": filename, \"page\": 1})\n",
    "\n",
    "        else:\n",
    "            print(f\"Unsupported file: {filename}\")\n",
    "\n",
    "    except Exception as e:\n",
    "        print(f\"Failed: {filename} — {str(e)}\")\n",
    "\n",
    "# Save to disk\n",
    "with open(\"chunks.json\", \"w\", encoding=\"utf-8\") as f:\n",
    "    json.dump(chunks, f)\n",
    "\n",
    "with open(\"sources.json\", \"w\", encoding=\"utf-8\") as f:\n",
    "    json.dump(sources, f)\n",
    "\n",
    "print(f\"✅ Extracted {len(chunks)} chunks from {len(sources)} sources.\")\n"
   ]
  },
  {
   "cell_type": "code",
   "execution_count": 37,
   "id": "6cb3c67a-5d57-48c8-b8a6-afc858fc888d",
   "metadata": {},
   "outputs": [
    {
     "name": "stdout",
     "output_type": "stream",
     "text": [
      "Total CPU cores available: 16\n"
     ]
    }
   ],
   "source": [
    "import multiprocessing\n",
    "print(\"Total CPU cores available:\", multiprocessing.cpu_count())\n"
   ]
  },
  {
   "cell_type": "code",
   "execution_count": 41,
   "id": "af72ea31-3a4b-40d3-8558-e1079e9d0aa1",
   "metadata": {},
   "outputs": [],
   "source": [
    "import os\n",
    "\n",
    "# Use all available CPU threads\n",
    "os.environ[\"OMP_NUM_THREADS\"] = str(os.cpu_count())  # or set a manual limit\n",
    "os.environ[\"TOKENIZERS_PARALLELISM\"] = \"true\"\n"
   ]
  },
  {
   "cell_type": "code",
   "execution_count": 47,
   "id": "8c7e32a5-4a75-4096-86f5-2f61e1590fab",
   "metadata": {},
   "outputs": [
    {
     "name": "stdout",
     "output_type": "stream",
     "text": [
      "🚀 Starting from scratch (0 / 24648)\n"
     ]
    }
   ],
   "source": [
    "#Set model and batch size\n",
    "import json\n",
    "import numpy as np\n",
    "from sentence_transformers import SentenceTransformer\n",
    "import os\n",
    "import time\n",
    "\n",
    "# Load your chunks\n",
    "with open(\"chunks.json\", \"r\", encoding=\"utf-8\") as f:\n",
    "    chunks = json.load(f)\n",
    "\n",
    "# Choose embedding model\n",
    "model = SentenceTransformer(\"hkunlp/instructor-base\")\n",
    "#model = SentenceTransformer(\"all-MiniLM-L6-v2\")  \n",
    "\n",
    "# Setup batching\n",
    "batch_size = 64\n",
    "save_every = 1000\n",
    "\n",
    "# Resume from checkpoint if exists\n",
    "if os.path.exists(\"embeddings_partial.npy\"):\n",
    "    embeddings = list(np.load(\"embeddings_partial.npy\"))\n",
    "    start = len(embeddings)\n",
    "    print(f\"🔁 Resuming from {start} / {len(chunks)}\")\n",
    "else:\n",
    "    embeddings = []\n",
    "    start = 0\n",
    "    print(f\"🚀 Starting from scratch (0 / {len(chunks)})\")"
   ]
  },
  {
   "cell_type": "code",
   "execution_count": 49,
   "id": "366e7216-8ad8-4be3-ad0e-84da460ae33c",
   "metadata": {},
   "outputs": [
    {
     "name": "stdout",
     "output_type": "stream",
     "text": [
      "[################                                  ] 32.46% (8000/24648)\n",
      "💾 Saved progress at 8000 chunks (2093.5s elapsed)\n",
      "[################################                  ] 64.91% (16000/24648)\n",
      "💾 Saved progress at 16000 chunks (4264.8s elapsed)\n",
      "[################################################  ] 97.37% (24000/24648)\n",
      "💾 Saved progress at 24000 chunks (6232.4s elapsed)\n",
      "[##################################################] 100.23% (24704/24648)\n",
      "💾 Saved progress at 24704 chunks (6409.2s elapsed)\n",
      "\n",
      "✅ Finished all batches.\n",
      "✅ Saved final embeddings to embeddings.npy\n"
     ]
    }
   ],
   "source": [
    "total = len(chunks)\n",
    "start_time = time.time()\n",
    "\n",
    "for i in range(start, total, batch_size):\n",
    "    batch = chunks[i:i+batch_size]\n",
    "    try:\n",
    "        batch_embeddings = model.encode(batch, show_progress_bar=False, batch_size=batch_size)\n",
    "        embeddings.extend(batch_embeddings)\n",
    "    except Exception as e:\n",
    "        print(f\"⚠️ Error embedding batch {i}-{i+batch_size}: {e}\")\n",
    "        continue\n",
    "\n",
    "    # Manual progress bar\n",
    "    percent = (i + batch_size) / total * 100\n",
    "    bar = \"#\" * int(percent // 2)\n",
    "    print(f\"\\r[{bar:<50}] {percent:.2f}% ({i+batch_size}/{total})\", end=\"\")\n",
    "\n",
    "    # Save every N steps or at the end\n",
    "    if (i + batch_size) % save_every == 0 or (i + batch_size) >= total:\n",
    "        np.save(\"embeddings_partial.npy\", np.array(embeddings))\n",
    "        elapsed = time.time() - start_time\n",
    "        print(f\"\\n💾 Saved progress at {i + batch_size} chunks ({elapsed:.1f}s elapsed)\")\n",
    "\n",
    "print(\"\\n✅ Finished all batches.\")\n",
    "np.save(\"embeddings.npy\", np.array(embeddings))\n",
    "print(\"✅ Saved final embeddings to embeddings.npy\")\n"
   ]
  },
  {
   "cell_type": "code",
   "execution_count": 55,
   "id": "c302b3ee-ed11-4f90-a18a-a7933ad1c6a4",
   "metadata": {},
   "outputs": [
    {
     "name": "stdout",
     "output_type": "stream",
     "text": [
      "✅ FAISS index created and saved.\n"
     ]
    }
   ],
   "source": [
    "#Store Embeddings in FAISS to search\n",
    "import faiss\n",
    "import numpy as np\n",
    "\n",
    "# Convert list to NumPy array\n",
    "embeddings = np.array(embeddings)\n",
    "\n",
    "# Confirm shape\n",
    "dimension = embeddings.shape[1]\n",
    "\n",
    "# Build FAISS index\n",
    "index = faiss.IndexFlatL2(dimension)\n",
    "index.add(embeddings)\n",
    "\n",
    "# Save index\n",
    "faiss.write_index(index, \"faiss_index.index\")\n",
    "print(\"✅ FAISS index created and saved.\")"
   ]
  },
  {
   "cell_type": "code",
   "execution_count": 57,
   "id": "56e403a9-7292-4282-a6f2-2492486fa146",
   "metadata": {},
   "outputs": [],
   "source": [
    "#Load Key and groq client\n",
    "from dotenv import load_dotenv\n",
    "from groq import Groq\n",
    "load_dotenv()\n",
    "\n",
    "groq_client = Groq(api_key=os.getenv(\"GROQ_API_KEY\"))\n"
   ]
  },
  {
   "cell_type": "code",
   "execution_count": 59,
   "id": "73fd02c1-80e9-475d-bbd7-df813aaeb2c7",
   "metadata": {},
   "outputs": [],
   "source": [
    "#Ask Question\n",
    "# Load saved data\n",
    "with open(\"sources.json\", \"r\", encoding=\"utf-8\") as f:\n",
    "    sources = json.load(f)\n",
    "\n",
    "def search_chunks(query, k=5):\n",
    "    query_vec = model.encode([query])\n",
    "    _, indices = index.search(np.array(query_vec).reshape(1, -1), k)\n",
    "    return [(chunks[i], sources[i]) for i in indices[0]]\n",
    "\n",
    "def ask_groq(query):\n",
    "    context_chunks = search_chunks(query)\n",
    "    context = \"\\n\\n\".join([\n",
    "        f\"{text}\\n(Source: {meta['manual']} - Page {meta['page']})\"\n",
    "        for text, meta in context_chunks\n",
    "    ])\n",
    "\n",
    "    messages = [\n",
    "        {\"role\": \"system\", \"content\": \"You're an expert assistant for elevator mechanics. Use the following manual text to answer clearly.\"},\n",
    "        {\"role\": \"user\", \"content\": f\"{context}\\n\\nQuestion: {query}\"}\n",
    "    ]\n",
    "\n",
    "    response = groq_client.chat.completions.create(\n",
    "        model=\"openai/gpt-oss-120b\",\n",
    "        messages=messages,\n",
    "        temperature=0.3\n",
    "    )\n",
    "\n",
    "    return response.choices[0].message.content\n"
   ]
  },
  {
   "cell_type": "code",
   "execution_count": 61,
   "id": "f9f1b414-a4cb-47e6-b3e5-8624489b169d",
   "metadata": {},
   "outputs": [
    {
     "data": {
      "text/plain": [
       "'**Resetting a hydraulic‑elevator after a “low‑oil” shutdown**  \\n(Using the excerpts you supplied from the AME‑10.20.007 and HMC‑1000 manuals)\\n\\n---\\n\\n## 1.\\u202fSafety first – make sure it is safe to work on the machine\\n\\n| What to check | Why it matters |\\n|--------------|---------------|\\n| **Power OFF** (or put the controller in “maintenance” mode) | Prevents accidental movement while you are working on the oil system. |\\n| **Lock‑out / Tag‑out** the main power and the **Start‑Permit** chain (see error\\u202f86) | The manual says “Start permit input has been in incorrect state during drive – check the start‑permit chain. Requires power OFF.” |\\n| **Verify the elevator is stopped at a floor** (the car will stay at the floor after a failed relevelling) | The elevator will stay at the floor after three failed relevelling attempts (error\\u202f81). This is the normal “stopped‑at‑floor” state before you can reset. |\\n\\n---\\n\\n## 2.\\u202fDiagnose the low‑oil condition\\n\\n1. **Read the fault code** – the manual shows **Error\\u202f81** (re‑levelling failed) and **Error\\u202f86** (start‑permit problem).  \\n   - If the low‑oil condition triggered a **“relevelling failed”** after three attempts, the controller will have set **Error\\u202f81**.  \\n   - If the **Start‑Permit** was lost while the drive was trying to move, you will see **Error\\u202f86**.\\n\\n2. **Check the hydraulic‑oil level**  \\n   - Open the hydraulic tank, verify the oil is **above the low‑oil sensor**.  \\n   - Re‑fill with the correct hydraulic fluid to the **manufacturer‑specified level**.  \\n   - Reset the low‑oil sensor (some systems have a “low‑oil reset” switch on the hydraulic board; if not, the sensor will clear automatically once the level is restored).\\n\\n---\\n\\n## 3.\\u202fReset the controller / elevator\\n\\n### 3.1\\u202fReset the **earthquake / safety board** (if the low‑oil shutdown also tripped the earthquake logic)\\n\\n> “The elevator may be returned to normal service by **pressing the RESET button on the earthquake board (HC‑EQ2)**. This should be done by authorized personnel, after it has been determined that it is safe to do so.” – *IMC AC 1‑2001, p.190*\\n\\n1. **Press the RESET button** on the **HC‑EQ2** board.  \\n2. Verify that the **EQI** (earthquake input) is now **inactive** (no earthquake condition).  \\n3. If the system stays in “shutdown” after the reset, **check the EQI input** for a stuck contact or wiring fault.\\n\\n### 3.2\\u202fReset the **main controller** (HMC‑1000 style)\\n\\n> “Pressing the **RESET** button will drop the safety relay and cause the elevator to stop immediately… The Computer On light turns back on when you release the RESET button.” – *HMC‑1000 Manual, p.33*\\n\\n1. Locate the **RESET** button on the **Swing Panel** (or on the controller’s front panel).  \\n2. **Press and hold** the button for **2–3\\u202fseconds** (this drops the safety relay).  \\n3. **Release** the button – the **Computer On** light should come back on, indicating the controller has re‑initialized.  \\n\\n> **Note:** If the **Computer On** light flashes on/off, the processor board may be faulty – check the EPROM chip (see manual).  \\n\\n### 3.3\\u202fClear the error codes\\n\\n1. **Power‑ON** the controller (if it was turned off).  \\n2. **Enter the “RESET” or “CLEAR” command** on the controller’s diagnostic screen (most HMC‑1000 controllers have a “Reset Fault” menu).  \\n3. Verify that **Error\\u202f81** and **Error\\u202f86** are cleared from the fault log.  \\n\\n---\\n\\n## 4.\\u202fVerify the elevator is ready to run\\n\\n| Step | What to check | How to verify |\\n|------|--------------|--------------|\\n| **Valve & vane adjustment** (re‑levelling) | “Check the adjustment of valves and the vanes at the floor level in question.” – *AME‑10.20.007, p.27* | Visually inspect the floor‑level valve and vane; adjust if the elevator still shows “re‑levelling failed”. |\\n| **Start‑Permit chain** | “Check the start‑permit chain.” – *Error\\u202f86* | Verify the start‑permit contacts are closed and the chain is intact. |\\n| **Brake & drive** | Follow the **Drive‑Setup** steps (Brake Lift, Brake Pick, Must‑Stop Timer) to make sure the drive is not stuck in an auto‑stop state. | Use the drive’s diagnostic screen to confirm **Brake Auto Stop** is OFF or cleared. |\\n| **Test call** | After the above, call the elevator to a floor. | The car should respond normally and the **“Ready‑to‑Run”** indicators (vertical status lights) should be lit. |\\n\\n---\\n\\n## 5.\\u202fFinal “Go‑Live” checklist\\n\\n1. **Oil level** – correct and sensor reset.  \\n2. **Reset button** on earthquake board pressed.  \\n3. **Controller reset** (RESET button on swing panel) – Computer On light steady.  \\n4. **Error codes** cleared (81, 86, any others).  \\n5. **Valve / vane** alignment checked.  \\n6. **Start‑permit** chain verified.  \\n7. **Brake & drive** not in auto‑stop (Brake Auto Stop #92 OFF or cleared).  \\n8. **Call the car** – it should move, stop at floors, and respond to calls.  \\n\\nIf any of the above steps fail, the fault may be deeper (e.g., a faulty start‑permit chain, a faulty brake‑pick relay, or a damaged EPROM). In that case, follow the detailed troubleshooting procedures for **Error\\u202f86** (start‑permit) or **Error\\u202f81** (re‑levelling) in the AME‑10.20.007 manual, or contact the manufacturer’s service department.\\n\\n---\\n\\n**Bottom line:**  \\n1. **Refill the hydraulic oil** to the proper level.  \\n2. **Press the RESET button** on the earthquake board (HC‑EQ2) **and** the **RESET** on the swing panel.  \\n3. **Clear the fault codes** and verify all safety inputs (ESS, PTI, EQI) are correct.  \\n4. **Check valve/vanes** and **start‑permit** chain, then test the elevator.  \\n\\nFollowing these steps will bring the hydraulic elevator back to normal service after a low‑oil shutdown.'"
      ]
     },
     "execution_count": 61,
     "metadata": {},
     "output_type": "execute_result"
    }
   ],
   "source": [
    "\n"
   ]
  },
  {
   "cell_type": "code",
   "execution_count": null,
   "id": "0cd6e6b0-89c0-4ade-9c7c-b12a86915af7",
   "metadata": {},
   "outputs": [],
   "source": []
  }
 ],
 "metadata": {
  "kernelspec": {
   "display_name": "Python 3 (ipykernel)",
   "language": "python",
   "name": "python3"
  },
  "language_info": {
   "codemirror_mode": {
    "name": "ipython",
    "version": 3
   },
   "file_extension": ".py",
   "mimetype": "text/x-python",
   "name": "python",
   "nbconvert_exporter": "python",
   "pygments_lexer": "ipython3",
   "version": "3.12.4"
  }
 },
 "nbformat": 4,
 "nbformat_minor": 5
}
